{
 "cells": [
  {
   "cell_type": "code",
   "execution_count": 1,
   "metadata": {},
   "outputs": [
    {
     "name": "stdout",
     "output_type": "stream",
     "text": [
      "Requirement already satisfied: pymdptoolbox in c:\\users\\fxi\\appdata\\local\\continuum\\anaconda3\\lib\\site-packages (4.0b3)\n",
      "Requirement already satisfied: scipy in c:\\users\\fxi\\appdata\\local\\continuum\\anaconda3\\lib\\site-packages (from pymdptoolbox) (1.1.0)\n",
      "Requirement already satisfied: numpy in c:\\users\\fxi\\appdata\\local\\continuum\\anaconda3\\lib\\site-packages (from pymdptoolbox) (1.14.3)\n"
     ]
    },
    {
     "name": "stderr",
     "output_type": "stream",
     "text": [
      "You are using pip version 18.0, however version 18.1 is available.\n",
      "You should consider upgrading via the 'python -m pip install --upgrade pip' command.\n"
     ]
    }
   ],
   "source": [
    "!pip install pymdptoolbox\n",
    "import mdptoolbox.example\n",
    "import numpy as np\n",
    "import pandas as pd\n",
    "import itertools\n",
    "from collections import defaultdict\n",
    "from collections import Counter\n",
    "import random\n",
    "import timeit\n",
    "import random\n",
    "import time"
   ]
  },
  {
   "cell_type": "code",
   "execution_count": 4,
   "metadata": {},
   "outputs": [
    {
     "name": "stderr",
     "output_type": "stream",
     "text": [
      "C:\\Users\\fxi\\AppData\\Local\\Continuum\\anaconda3\\lib\\site-packages\\pandas\\core\\reshape\\merge.py:544: UserWarning: merging between different levels can give an unintended result (1 levels on the left, 2 on the right)\n",
      "  warnings.warn(msg, UserWarning)\n",
      "C:\\Users\\fxi\\AppData\\Local\\Continuum\\anaconda3\\lib\\site-packages\\pandas\\core\\generic.py:3111: PerformanceWarning: dropping on a non-lexsorted multi-index without a level parameter may impact performance.\n",
      "  obj = obj._drop_axis(labels, axis, level=level, errors=errors)\n"
     ]
    }
   ],
   "source": [
    "np.random.seed(123)\n",
    "\n",
    "\n",
    "datap = pd.read_csv('train.csv', sep=',', header=0)\n",
    "\n",
    "states=14\n",
    "actions=14\n",
    "p = [1 for a in range(0,states)]\n",
    "a=list(range(1, actions+1))\n",
    "s=list(range(1, states+1))\n",
    "\n",
    "\n",
    "#get transition probabilities\n",
    "\n",
    "sas=pd.DataFrame({'count' : datap.groupby( [ 's', 'a','sp'] ).size()}).reset_index()\n",
    "sa=pd.DataFrame({'count' : datap.groupby( [ 's', 'a'] ).size()}).reset_index()\n",
    "\n",
    "t = pd.merge(sas, sa,  how='left', left_on=['s','a'], right_on = ['s','a'])\n",
    "t['t_prob'] = t['count_x']/t['count_y']\n",
    "\n",
    "r=datap[['s','a','r']].groupby([ 's', 'a']).agg({'count', 'sum'}).reset_index()\n",
    "\n",
    "#print(r)\n",
    "\n",
    "model= pd.merge(t, r,  how='left', left_on=['s','a'], right_on = ['s','a'])\n",
    "\n",
    "r.columns = ['s', 'a','r_sum','count']\n",
    "\n",
    "model.columns = ['s', 'a','sp','count_sas','count_sa','t_prob','r_count','r_sum']\n",
    "#print(model)\n",
    "\n",
    "\n",
    "model['r_val'] = model['r_sum']/model['count_sa']\n",
    "model['r_expected'] = model['t_prob']*model['r_val']\n",
    "small_model= model.loc[(model['a']== 1)]\n",
    "\n",
    "#print(small_model)\n",
    "\n",
    "transition=np.zeros((14,14))\n",
    "transition[0][1]=1\n",
    "#print(transition)\n",
    "for index, row in small_model.iterrows():\n",
    "    transition[int(row['s']-1)][int(row['sp']-1)]=row['t_prob']\n",
    "\n",
    "#print(transition)\n",
    "#print(small_model)\n",
    "\n",
    "#get expected avg R\n",
    "r_s=datap[['s','a','sp','r']].groupby([ 's', 'a','sp']).agg({'count', 'sum'}).reset_index()\n",
    "r_s.columns = ['s', 'a','sp','r_count','r_sum']\n",
    "r_s['avg_r']=r_s['r_sum']/r_s['r_count']\n",
    "\n",
    "initial_s=model[['sp','count_sas']].groupby([ 'sp']).agg({'sum'}).reset_index()\n",
    "initial_s.columns = ['sp', 'count']\n",
    "initial_s['perc']=initial_s['count']/initial_s['count'].sum()\n",
    "#print(r_s)\n"
   ]
  },
  {
   "cell_type": "code",
   "execution_count": 6,
   "metadata": {},
   "outputs": [
    {
     "name": "stdout",
     "output_type": "stream",
     "text": [
      "Step: 1 S: 8 A: 8 Sp: 7 R: -0.3333333333333333\n",
      "Step: 2 S: 7 A: 13 Sp: 1 R: -0.3333333333333333\n",
      "Step: 3 S: 1 A: 13 Sp: 5 R: -0.5\n",
      "Step: 4 S: 5 A: 13 Sp: 8 R: -0.3333333333333333\n",
      "Step: 5 S: 8 A: 8 Sp: 5 R: -0.3333333333333333\n",
      "Step: 6 S: 5 A: 13 Sp: 3 R: -0.3333333333333333\n",
      "Step: 7 S: 3 A: 7 Sp: 5 R: -0.3333333333333333\n",
      "Step: 8 S: 5 A: 13 Sp: 7 R: -0.3333333333333333\n",
      "Step: 9 S: 7 A: 13 Sp: 7 R: -0.3333333333333333\n",
      "Step: 10 S: 7 A: 13 Sp: 11 R: -0.3333333333333333\n"
     ]
    }
   ],
   "source": [
    "def simulate(policy, steps):\n",
    "    #initial state \n",
    "    if steps <1:\n",
    "        return\n",
    "        \n",
    "    step=0\n",
    "    state=np.random.choice(np.arange(1, 15), p=initial_s.perc.values)\n",
    "    #print(\"Step:\",step, \"State:\",state)\n",
    "    \n",
    "    while step<steps:\n",
    "        step=step+1\n",
    "        action=policy[state-1]\n",
    "        prev_state=state\n",
    "        state=np.random.choice(np.arange(1, 15), p=transition[state-1])\n",
    "        reward=r_s.loc[(r_s['s']== prev_state)& (r_s['a']== action)& (r_s['sp']== state)]['avg_r'].mean()\n",
    "        print(\"Step:\",step, \"S:\",prev_state,\"A:\",action,\"Sp:\",state, \"R:\",reward)\n",
    "        \n",
    "sample_policy=[13,  2,  7,  5, 13, 13, 13,  8,  3,  5, 11,  3, 13,  8]\n",
    "simulate(sample_policy,10)"
   ]
  }
 ],
 "metadata": {
  "kernelspec": {
   "display_name": "Python 3",
   "language": "python",
   "name": "python3"
  },
  "language_info": {
   "codemirror_mode": {
    "name": "ipython",
    "version": 3
   },
   "file_extension": ".py",
   "mimetype": "text/x-python",
   "name": "python",
   "nbconvert_exporter": "python",
   "pygments_lexer": "ipython3",
   "version": "3.6.5"
  }
 },
 "nbformat": 4,
 "nbformat_minor": 2
}
