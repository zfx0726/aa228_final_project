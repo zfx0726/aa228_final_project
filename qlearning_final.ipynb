{
 "cells": [
  {
   "cell_type": "code",
   "execution_count": 1,
   "metadata": {},
   "outputs": [],
   "source": [
    "import numpy as np\n",
    "import pandas as pd\n",
    "import matplotlib.pyplot as plt\n",
    "from matplotlib.collections import LineCollection\n",
    "# with implementation from http://mnemstudio.org/path-finding-q-learning-tutorial.htm"
   ]
  },
  {
   "cell_type": "code",
   "execution_count": 3,
   "metadata": {},
   "outputs": [
    {
     "data": {
      "text/html": [
       "<div>\n",
       "<style scoped>\n",
       "    .dataframe tbody tr th:only-of-type {\n",
       "        vertical-align: middle;\n",
       "    }\n",
       "\n",
       "    .dataframe tbody tr th {\n",
       "        vertical-align: top;\n",
       "    }\n",
       "\n",
       "    .dataframe thead th {\n",
       "        text-align: right;\n",
       "    }\n",
       "</style>\n",
       "<table border=\"1\" class=\"dataframe\">\n",
       "  <thead>\n",
       "    <tr style=\"text-align: right;\">\n",
       "      <th></th>\n",
       "      <th>Unnamed: 0</th>\n",
       "      <th>user_id</th>\n",
       "      <th>s</th>\n",
       "      <th>a</th>\n",
       "      <th>sp</th>\n",
       "      <th>r</th>\n",
       "      <th>movie_num</th>\n",
       "    </tr>\n",
       "  </thead>\n",
       "  <tbody>\n",
       "    <tr>\n",
       "      <th>0</th>\n",
       "      <td>0</td>\n",
       "      <td>133</td>\n",
       "      <td>12</td>\n",
       "      <td>1</td>\n",
       "      <td>11</td>\n",
       "      <td>-3.0</td>\n",
       "      <td>1</td>\n",
       "    </tr>\n",
       "    <tr>\n",
       "      <th>1</th>\n",
       "      <td>1</td>\n",
       "      <td>133</td>\n",
       "      <td>12</td>\n",
       "      <td>2</td>\n",
       "      <td>11</td>\n",
       "      <td>-2.0</td>\n",
       "      <td>1</td>\n",
       "    </tr>\n",
       "    <tr>\n",
       "      <th>2</th>\n",
       "      <td>2</td>\n",
       "      <td>133</td>\n",
       "      <td>12</td>\n",
       "      <td>3</td>\n",
       "      <td>11</td>\n",
       "      <td>-3.0</td>\n",
       "      <td>1</td>\n",
       "    </tr>\n",
       "    <tr>\n",
       "      <th>3</th>\n",
       "      <td>3</td>\n",
       "      <td>133</td>\n",
       "      <td>12</td>\n",
       "      <td>4</td>\n",
       "      <td>11</td>\n",
       "      <td>-3.0</td>\n",
       "      <td>1</td>\n",
       "    </tr>\n",
       "    <tr>\n",
       "      <th>4</th>\n",
       "      <td>4</td>\n",
       "      <td>133</td>\n",
       "      <td>12</td>\n",
       "      <td>5</td>\n",
       "      <td>11</td>\n",
       "      <td>-3.0</td>\n",
       "      <td>1</td>\n",
       "    </tr>\n",
       "  </tbody>\n",
       "</table>\n",
       "</div>"
      ],
      "text/plain": [
       "   Unnamed: 0  user_id   s  a  sp    r  movie_num\n",
       "0           0      133  12  1  11 -3.0          1\n",
       "1           1      133  12  2  11 -2.0          1\n",
       "2           2      133  12  3  11 -3.0          1\n",
       "3           3      133  12  4  11 -3.0          1\n",
       "4           4      133  12  5  11 -3.0          1"
      ]
     },
     "execution_count": 3,
     "metadata": {},
     "output_type": "execute_result"
    }
   ],
   "source": [
    "#use trainning data to build the recommendation\n",
    "data=pd.read_csv('/Users/irwang/Desktop/aa228_final_project/final_labeled_data_train.csv')\n",
    "data.head()"
   ]
  },
  {
   "cell_type": "code",
   "execution_count": 5,
   "metadata": {},
   "outputs": [],
   "source": [
    "test=pd.read_csv('/Users/irwang/Desktop/aa228_final_project/final_labeled_data_test.csv')\n",
    "test.head()\n",
    "test_u=test[test['r']>0][['user_id','s','sp','r']].drop_duplicates()"
   ]
  },
  {
   "cell_type": "code",
   "execution_count": 6,
   "metadata": {},
   "outputs": [
    {
     "data": {
      "text/html": [
       "<div>\n",
       "<style scoped>\n",
       "    .dataframe tbody tr th:only-of-type {\n",
       "        vertical-align: middle;\n",
       "    }\n",
       "\n",
       "    .dataframe tbody tr th {\n",
       "        vertical-align: top;\n",
       "    }\n",
       "\n",
       "    .dataframe thead th {\n",
       "        text-align: right;\n",
       "    }\n",
       "</style>\n",
       "<table border=\"1\" class=\"dataframe\">\n",
       "  <thead>\n",
       "    <tr style=\"text-align: right;\">\n",
       "      <th></th>\n",
       "      <th>s</th>\n",
       "      <th>a</th>\n",
       "      <th>mean</th>\n",
       "    </tr>\n",
       "  </thead>\n",
       "  <tbody>\n",
       "    <tr>\n",
       "      <th>15</th>\n",
       "      <td>1</td>\n",
       "      <td>1</td>\n",
       "      <td>0.545455</td>\n",
       "    </tr>\n",
       "  </tbody>\n",
       "</table>\n",
       "</div>"
      ],
      "text/plain": [
       "    s  a      mean\n",
       "15  1  1  0.545455"
      ]
     },
     "execution_count": 6,
     "metadata": {},
     "output_type": "execute_result"
    }
   ],
   "source": [
    "#make it consistent with index\n",
    "data['s']=data['s']-1\n",
    "data['a']=data['a']-1\n",
    "data['sp']=data['sp']-1\n",
    "data.head()\n",
    "avg_r=data.groupby(['s', 'a']).r.agg(['mean']).reset_index()\n",
    "avg_r[avg_r['mean']>0]"
   ]
  },
  {
   "cell_type": "code",
   "execution_count": 7,
   "metadata": {},
   "outputs": [],
   "source": [
    "def update_q(s,sp,a,alpha,gamma):\n",
    "    rsa = r[s, a]\n",
    "    qsa = q[s, a]\n",
    "    new_q = qsa + alpha * (rsa + gamma * max(q[sp, :]) - qsa)\n",
    "    q[s, a] = new_q\n",
    "    return r[s, a]"
   ]
  },
  {
   "cell_type": "code",
   "execution_count": 20,
   "metadata": {},
   "outputs": [],
   "source": [
    "def learning(alpha,gamma):\n",
    "    rewards=[]\n",
    "    epsilon = 1.0 \n",
    "    for e in range(int(n_episodes)):\n",
    "        #print e\n",
    "        states = np.arange(1,14)\n",
    "        random_state.shuffle(states)\n",
    "        current_state = states[0]\n",
    "        total_rewards = 0\n",
    "        for i in range(steps):\n",
    "            if np.random.rand(1)[0] >= epsilon:\n",
    "                action = np.argmax(q[current_state])\n",
    "            else:\n",
    "                action = np.random.randint(0,14)\n",
    "            next_state=int(data[(data['s']==current_state)&(data['a']==action)].sample()['sp'])\n",
    "            reward = update_q(current_state, next_state, action,alpha=alpha, gamma=gamma) \n",
    "            total_rewards += reward\n",
    "            current_state = next_state\n",
    "        epsilon = min_epsilon + (max_epsilon - min_epsilon)*np.exp(-decay_rate*e) \n",
    "        #print epsilon\n",
    "        rewards.append(total_rewards)\n",
    "    return rewards"
   ]
  },
  {
   "cell_type": "code",
   "execution_count": 25,
   "metadata": {},
   "outputs": [
    {
     "name": "stderr",
     "output_type": "stream",
     "text": [
      "/Users/irwang/anaconda2/lib/python2.7/site-packages/ipykernel_launcher.py:1: FutureWarning: Method .as_matrix will be removed in a future version. Use .values instead.\n",
      "  \"\"\"Entry point for launching an IPython kernel.\n"
     ]
    }
   ],
   "source": [
    "r = avg_r.pivot(index='s', columns='a', values='mean').as_matrix()\n",
    "n_episodes = 1000\n",
    "max_epsilon = 1\n",
    "min_epsilon = 0.05\n",
    "decay_rate = 0.01  \n",
    "random_state = np.random.RandomState(1999)\n",
    "steps=150    "
   ]
  },
  {
   "cell_type": "code",
   "execution_count": null,
   "metadata": {},
   "outputs": [],
   "source": [
    "for al in np.arange(0.1,0.35,0.05):\n",
    "    # defines the reward/connection graph\n",
    "    q = np.full(r.shape, -100)\n",
    "    rewards_list=learning (alpha=al,gamma=0.99)\n",
    "    rec=[]\n",
    "    for i in range(14):\n",
    "        d={}\n",
    "        d['s']=i+1\n",
    "        d['recommend']=np.argmax(q[i])+1\n",
    "        rec.append(d.copy())\n",
    "    recommender=pd.DataFrame(rec)\n",
    "    pred=pd.merge(test_u,recommender)\n",
    "    print al,len(pred[pred['sp']==pred['recommend']])/float(len(pred)),len(pred[(pred['sp']==pred['recommend'])&(pred['r']>3)])/float(len(pred[pred['r']>3]))"
   ]
  },
  {
   "cell_type": "code",
   "execution_count": null,
   "metadata": {},
   "outputs": [],
   "source": []
  }
 ],
 "metadata": {
  "kernelspec": {
   "display_name": "Python 2",
   "language": "python",
   "name": "python2"
  },
  "language_info": {
   "codemirror_mode": {
    "name": "ipython",
    "version": 2
   },
   "file_extension": ".py",
   "mimetype": "text/x-python",
   "name": "python",
   "nbconvert_exporter": "python",
   "pygments_lexer": "ipython2",
   "version": "2.7.15"
  }
 },
 "nbformat": 4,
 "nbformat_minor": 2
}
